{
 "cells": [
  {
   "cell_type": "markdown",
   "metadata": {},
   "source": [
    "# Song Annotation"
   ]
  },
  {
   "cell_type": "markdown",
   "metadata": {},
   "source": [
    "## Song selection and display"
   ]
  },
  {
   "cell_type": "code",
   "execution_count": 89,
   "metadata": {},
   "outputs": [
    {
     "name": "stdout",
     "output_type": "stream",
     "text": [
      "1060 songs\n",
      "127 annotated songs\n",
      "file chosen is located at : ../../DataSet/To_annotate_3/TRAYKVH128F42AC993.h5\n",
      "\n",
      "\n",
      " Mass Destruction by Faithless\n",
      "\n",
      "My dad came into my room holding his hat\n",
      "I knew he was leaving\n",
      "He sat on my bed told me some facts\n",
      "Son, I have the duty, calling on me\n",
      "You and your sister be brave my little soldier\n",
      "And don't forget all I told ya\n",
      "You're the mister of the house now remember this\n",
      "And when you wake up in the morning give yer momma a kiss\n",
      "Then I had to say goodbye\n",
      "In the morning woke momma with a kiss on each eyelid\n",
      "Even though I'm only a kid\n",
      "Certain things can't be hid\n",
      "Momma grabbed me\n",
      "Held me like I was made of gold\n",
      "But left her inner stories untold\n",
      "I said, momma it will be all right\n",
      "When daddy comes home, tonight\n",
      "Whether long range weapon or suicide bomber\n",
      "Wicked mind is a weapon of mass destruction\n",
      "Whether you're soar-away Sun or B\n",
      "BC1\n",
      "Information is a weapon of mass destruct\n",
      "You're called Caucasian or a poor Asian\n",
      "Racism is a weapon of mass destruction\n",
      "Whether inflation or globalization\n",
      "Fear is a weapon of mass destruction\n",
      "Whether Halliburton, Enron or anyone\n",
      "Greed is a weapon of mass destruction\n",
      "We need to find the courage, overcome\n",
      "Inaction is a weapon of mass destruction\n",
      "The skin under my chin is exploding again\n",
      "I'm getting stress from some other children\n",
      "I'm holding it in\n",
      "We taking sides like a politician\n",
      "And if I get friction we get to fighting\n",
      "I defend my dad he's the best of all men\n",
      "And whatever he's doing he's doing the right thing\n",
      "It's frightening, but it makes me mad\n",
      "Why do all of these people seem to hate my dad?\n",
      "And if that ain't enough now I get these spots\n",
      "I go to sleep every night with my stomach in knots\n",
      "And what's more, I can hear momma next door\n",
      "Explore the radio for reports of war\n",
      "And all we ever seem to do is hide the tears\n",
      "Seems like daddy been gone for years\n",
      "But he was right, now I'm geared up for the fight\n",
      "And he would be proud of me\n",
      "My daddy came home tonight\n",
      "Listen real keenly\n",
      "Whether long range weapon or suicide bomber\n",
      "Wicked mind is a weapon of mass destruction\n",
      "Whether you're soar-away Sun or B\n",
      "BC1\n",
      "Information is a weapon of mass destruct\n",
      "You're called Caucasian or a poor Asian\n",
      "Racism is a weapon of mass destruction\n",
      "Whether inflation or globalization\n",
      "Fear is a weapon of mass destruction\n",
      "Whether Halliburton, Enron or anyone\n",
      "Greed is a weapon of mass destruction\n",
      "We need to find the courage, overcome\n",
      "Inaction is a weapon of mass destruction\n",
      "My story stops here, lets be clear\n",
      "This scenario is happening everywhere\n",
      "And you ain't going to nirvana or far-vana\n",
      "You're coming right back here to live out your karma\n",
      "With even more drama than previously, seriously\n",
      "Just how many centuries have we been waiting for someone else to make us free?\n",
      "And we refuse to see\n",
      "That people overseas suffer just like we\n",
      "Bad leadership and ego's unfettered and free\n",
      "Who feed on the people they're supposed to lead\n",
      "I don't need good people to pray and wait\n",
      "For the lord to make it all straight\n",
      "There's only now, do it right'\n",
      "Cause I don't want your daddy, leaving home tonight\n"
     ]
    }
   ],
   "source": [
    "all_songs_dn = \"../../DataSet/To_annotate_3\"\n",
    "annotated_songs_dn = \"../../DataSet/Annotated Songs\"\n",
    "\n",
    "import glob, os\n",
    "def searchFile(name, recursive=True, size=0) :\n",
    "    if recursive : name = \"**/\"+name\n",
    "    return ([f for f in glob.glob(name, recursive = recursive) if os.stat(f).st_size > size])\n",
    "\n",
    "all_songs_list = searchFile(all_songs_dn+\"/*.h5\")\n",
    "annotated_songs_list = [f.split('/')[2] for f in searchFile(annotated_songs_dn+\"/*.h5\")]\n",
    "print(len(all_songs_list),\"songs\")\n",
    "print(len(annotated_songs_list),'annotated songs')\n",
    "\n",
    "##Pick Random file among all_songs_list, check if not in annotated_songs_list\n",
    "from random import randint\n",
    "file_chosen = False\n",
    "while not file_chosen :\n",
    "    song_file = all_songs_list[randint(0, len(all_songs_list))]\n",
    "    if song_file.split('/')[-1] not in annotated_songs_list :\n",
    "        file_chosen = True\n",
    "\n",
    "print(\"file chosen is located at :\",song_file)\n",
    "\n",
    "##Open file and display lyrics\n",
    "with open(song_file, 'r', encoding=\"utf-8\") as song :\n",
    "    s = song.readlines()\n",
    "lyrics = s[8]\n",
    "print('\\n\\n',s[4].rstrip(),'by',s[2])\n",
    "print(lyrics.replace(\"<SEP>\",\"\\n\"))"
   ]
  },
  {
   "cell_type": "markdown",
   "metadata": {},
   "source": [
    "## Annotate"
   ]
  },
  {
   "cell_type": "code",
   "execution_count": 87,
   "metadata": {},
   "outputs": [
    {
     "data": {
      "application/vnd.jupyter.widget-view+json": {
       "model_id": "cfaa3c8f023146398fd369750d0f792f",
       "version_major": 2,
       "version_minor": 0
      },
      "text/plain": [
       "IntSlider(value=0, description='Peace/Anger', max=1, min=-1)"
      ]
     },
     "metadata": {},
     "output_type": "display_data"
    },
    {
     "data": {
      "application/vnd.jupyter.widget-view+json": {
       "model_id": "04cd61b765d442f095bee0d7c58b4067",
       "version_major": 2,
       "version_minor": 0
      },
      "text/plain": [
       "IntSlider(value=0, description='Sadness/Joy', max=1, min=-1)"
      ]
     },
     "metadata": {},
     "output_type": "display_data"
    },
    {
     "data": {
      "application/vnd.jupyter.widget-view+json": {
       "model_id": "1bc7d2a8e0a84dca8c6db0a18dc6a355",
       "version_major": 2,
       "version_minor": 0
      },
      "text/plain": [
       "IntSlider(value=0, description='Hate/Love', max=1, min=-1)"
      ]
     },
     "metadata": {},
     "output_type": "display_data"
    },
    {
     "data": {
      "application/vnd.jupyter.widget-view+json": {
       "model_id": "3c54c05aa2c847dbb47056dd201874eb",
       "version_major": 2,
       "version_minor": 0
      },
      "text/plain": [
       "Text(value='', description='Keywords')"
      ]
     },
     "metadata": {},
     "output_type": "display_data"
    }
   ],
   "source": [
    "from ipywidgets import interact, interactive, fixed, interact_manual\n",
    "import ipywidgets as widgets\n",
    "anger = widgets.IntSlider(min=-1,max=1, step=1,description='Peace/Anger')\n",
    "joy = widgets.IntSlider(min=-1, max=1,step=1,description='Sadness/Joy')\n",
    "love = widgets.IntSlider(min=-1,max=1,step=1,description='Hate/Love')\n",
    "keywords = widgets.Text(description='Keywords')\n",
    "display(anger)\n",
    "display(joy)\n",
    "display(love)\n",
    "display(keywords)"
   ]
  },
  {
   "cell_type": "markdown",
   "metadata": {},
   "source": [
    "## Check your annotation and save"
   ]
  },
  {
   "cell_type": "code",
   "execution_count": 88,
   "metadata": {},
   "outputs": [
    {
     "name": "stdout",
     "output_type": "stream",
     "text": [
      "Done\n"
     ]
    }
   ],
   "source": [
    "with open(\"../../DataSet/Annotated Songs/\"+song_file.split('/')[-1],'w',encoding = 'utf-8') as save_file :\n",
    "    for l in s :\n",
    "        save_file.write(l)\n",
    "    save_file.write('\\n'+str(anger.value)+\";\"+str(joy.value)+\";\"+str(love.value)+'\\n')\n",
    "    save_file.write(str(keywords.value))\n",
    "\n",
    "\n",
    "with open(\"../../DataSet/keywords.list\",'r',encoding = 'utf-8') as keywords_file :\n",
    "    kfile = [f.rstrip() for f in keywords_file.readlines()]\n",
    "    \n",
    "keyw = keywords.value.split(';')\n",
    "for key in keyw :\n",
    "    if key not in kfile :\n",
    "        kfile.append(key)\n",
    "        \n",
    "with open(\"../../DataSet/keywords.list\",'w',encoding = 'utf-8') as keywords_file :\n",
    "    for l in kfile :\n",
    "        keywords_file.write(l+\"\\n\")\n",
    "\n",
    "print(\"Done\")"
   ]
  },
  {
   "cell_type": "markdown",
   "metadata": {},
   "source": [
    "# Restart"
   ]
  },
  {
   "cell_type": "code",
   "execution_count": null,
   "metadata": {},
   "outputs": [],
   "source": []
  }
 ],
 "metadata": {
  "file_extension": ".py",
  "kernelspec": {
   "display_name": "Python 3",
   "language": "python",
   "name": "python3"
  },
  "language_info": {
   "codemirror_mode": {
    "name": "ipython",
    "version": 3
   },
   "file_extension": ".py",
   "mimetype": "text/x-python",
   "name": "python",
   "nbconvert_exporter": "python",
   "pygments_lexer": "ipython3",
   "version": "3.6.7"
  },
  "mimetype": "text/x-python",
  "name": "python",
  "npconvert_exporter": "python",
  "pygments_lexer": "ipython3",
  "version": 3
 },
 "nbformat": 4,
 "nbformat_minor": 2
}

{
 "cells": [
  {
   "cell_type": "markdown",
   "metadata": {},
   "source": [
    "# Song Annotation"
   ]
  },
  {
   "cell_type": "markdown",
   "metadata": {},
   "source": [
    "## Song selection and display"
   ]
  },
  {
   "cell_type": "code",
   "execution_count": 27,
   "metadata": {},
   "outputs": [
    {
     "name": "stdout",
     "output_type": "stream",
     "text": [
      "2887 songs\n",
      "62 annotated songs\n",
      "file chosen is located at : ../../DataSet/English songs with lyrics/TRAXGVY128F933E9C9.h5\n",
      "\n",
      "\n",
      " Feeling Blue by Eric Burdon\n",
      "\n",
      "Let's say you're livin' in the inner city\n",
      "You're angry young and male\n",
      "They say you got a pretty good chance\n",
      "My brother of winding up in jail\n",
      "Incarcreation understand ia a lucrative industry\n",
      "Whole towns are living on it\n",
      "The 21st century slavery\n",
      "Somewhere is there a solution\n",
      "If there is we've got to find it\n",
      "And get our heads and hearts behind it\n",
      "But right now I don't know what to do\n",
      "That's why I'm feeling blue\n",
      "You see a lot of guys so frustrated\n",
      "They just want to kick somebody's ass\n",
      "It's not just a racial thing these days oh yeah\n",
      "Privilege and class\n",
      "Education's a factor you can't afford to ignore\n",
      "It's still the best way my brother\n",
      "To even up the score\n"
     ]
    }
   ],
   "source": [
    "all_songs_dn = \"../../DataSet/English songs with lyrics\"\n",
    "annotated_songs_dn = \"../../DataSet/Annotated Songs\"\n",
    "\n",
    "import glob, os\n",
    "def searchFile(name, recursive=True, size=0) :\n",
    "    if recursive : name = \"**/\"+name\n",
    "    return ([f for f in glob.glob(name, recursive = recursive) if os.stat(f).st_size > size])\n",
    "\n",
    "all_songs_list = searchFile(all_songs_dn+\"/*.h5\")\n",
    "annotated_songs_list = [f.split('/')[2] for f in searchFile(annotated_songs_dn+\"/*.h5\")]\n",
    "print(len(all_songs_list),\"songs\")\n",
    "print(len(annotated_songs_list),'annotated songs')\n",
    "\n",
    "##Pick Random file among all_songs_list, check if not in annotated_songs_list\n",
    "from random import randint\n",
    "file_chosen = False\n",
    "while not file_chosen :\n",
    "    song_file = all_songs_list[randint(0, len(all_songs_list))]\n",
    "    if song_file.split('/')[-1] not in annotated_songs_list :\n",
    "        file_chosen = True\n",
    "\n",
    "print(\"file chosen is located at :\",song_file)\n",
    "\n",
    "##Open file and display lyrics\n",
    "with open(song_file, 'r', encoding=\"utf-8\") as song :\n",
    "    s = song.readlines()\n",
    "lyrics = s[8]\n",
    "print('\\n\\n',s[4].rstrip(),'by',s[2])\n",
    "print(lyrics.replace(\"<SEP>\",\"\\n\"))"
   ]
  },
  {
   "cell_type": "markdown",
   "metadata": {},
   "source": [
    "## Annotate"
   ]
  },
  {
   "cell_type": "code",
   "execution_count": 1,
   "metadata": {},
   "outputs": [
    {
     "data": {
      "application/vnd.jupyter.widget-view+json": {
       "model_id": "ad1a8c17bd0345ec946d7f68f43f1593",
       "version_major": 2,
       "version_minor": 0
      },
      "text/plain": [
       "IntSlider(value=0, description='Peace/Anger', max=1, min=-1)"
      ]
     },
     "metadata": {},
     "output_type": "display_data"
    },
    {
     "data": {
      "application/vnd.jupyter.widget-view+json": {
       "model_id": "313820b3ba584bf987365cec776054de",
       "version_major": 2,
       "version_minor": 0
      },
      "text/plain": [
       "IntSlider(value=0, description='Sadness/Joy', max=1, min=-1)"
      ]
     },
     "metadata": {},
     "output_type": "display_data"
    },
    {
     "data": {
      "application/vnd.jupyter.widget-view+json": {
       "model_id": "2173c6c1a5c14b4c8d6ab7465b5b9f0f",
       "version_major": 2,
       "version_minor": 0
      },
      "text/plain": [
       "IntSlider(value=0, description='Hate/Love', max=1, min=-1)"
      ]
     },
     "metadata": {},
     "output_type": "display_data"
    },
    {
     "data": {
      "application/vnd.jupyter.widget-view+json": {
       "model_id": "85ccb9f8afcd4141b6c317d56fe82b00",
       "version_major": 2,
       "version_minor": 0
      },
      "text/plain": [
       "Text(value='', description='Keywords')"
      ]
     },
     "metadata": {},
     "output_type": "display_data"
    }
   ],
   "source": [
    "from ipywidgets import interact, interactive, fixed, interact_manual\n",
    "import ipywidgets as widgets\n",
    "anger = widgets.IntSlider(min=-1,max=1, step=1,description='Peace/Anger')\n",
    "joy = widgets.IntSlider(min=-1, max=1,step=1,description='Sadness/Joy')\n",
    "love = widgets.IntSlider(min=-1,max=1,step=1,description='Hate/Love')\n",
    "keywords = widgets.Text(description='Keywords')\n",
    "display(anger)\n",
    "display(joy)\n",
    "display(love)\n",
    "display(keywords)"
   ]
  },
  {
   "cell_type": "markdown",
   "metadata": {},
   "source": [
    "## Check your annotation and save"
   ]
  },
  {
   "cell_type": "code",
   "execution_count": 25,
   "metadata": {},
   "outputs": [
    {
     "name": "stdout",
     "output_type": "stream",
     "text": [
      "Done\n"
     ]
    }
   ],
   "source": [
    "with open(\"../../DataSet/Annotated Songs/\"+song_file.split('/')[-1],'w',encoding = 'utf-8') as save_file :\n",
    "    for l in s :\n",
    "        save_file.write(l)\n",
    "    save_file.write('\\n'+str(anger.value)+\";\"+str(joy.value)+\";\"+str(love.value)+'\\n')\n",
    "    save_file.write(str(keywords.value))\n",
    "\n",
    "\n",
    "with open(\"../../DataSet/keywords.list\",'r',encoding = 'utf-8') as keywords_file :\n",
    "    kfile = [f.rstrip() for f in keywords_file.readlines()]\n",
    "    \n",
    "keyw = keywords.value.split(';')\n",
    "for key in keyw :\n",
    "    if key not in kfile :\n",
    "        kfile.append(key)\n",
    "        \n",
    "with open(\"../../DataSet/keywords.list\",'w',encoding = 'utf-8') as keywords_file :\n",
    "    for l in kfile :\n",
    "        keywords_file.write(l+\"\\n\")\n",
    "\n",
    "print(\"Done\")"
   ]
  },
  {
   "cell_type": "markdown",
   "metadata": {},
   "source": [
    "# Restart"
   ]
  },
  {
   "cell_type": "code",
   "execution_count": null,
   "metadata": {},
   "outputs": [],
   "source": []
  }
 ],
 "metadata": {
  "file_extension": ".py",
  "kernelspec": {
   "display_name": "Python 3",
   "language": "python",
   "name": "python3"
  },
  "language_info": {
   "codemirror_mode": {
    "name": "ipython",
    "version": 3
   },
   "file_extension": ".py",
   "mimetype": "text/x-python",
   "name": "python",
   "nbconvert_exporter": "python",
   "pygments_lexer": "ipython3",
   "version": "3.6.7"
  },
  "mimetype": "text/x-python",
  "name": "python",
  "npconvert_exporter": "python",
  "pygments_lexer": "ipython3",
  "version": 3
 },
 "nbformat": 4,
 "nbformat_minor": 2
}

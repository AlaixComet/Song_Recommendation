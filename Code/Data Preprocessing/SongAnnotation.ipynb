{
 "cells": [
  {
   "cell_type": "markdown",
   "metadata": {},
   "source": [
    "# Song Annotation"
   ]
  },
  {
   "cell_type": "markdown",
   "metadata": {},
   "source": [
    "## Song selection and display"
   ]
  },
  {
   "cell_type": "code",
   "execution_count": 33,
   "metadata": {},
   "outputs": [
    {
     "name": "stdout",
     "output_type": "stream",
     "text": [
      "2898 songs\n",
      "0 annotated songs\n",
      "file chosen is located at : ..\\..\\DataSet\\English songs with lyrics\\TRALYPO128F429C4AF.h5\n",
      "\n",
      "\n",
      " Rock Me (Live In Boston_ 1970) (1st Show) by The Doors\n",
      "\n",
      "Want you to rock me\n",
      "Rock me all night long\n",
      "Rock me baby\n",
      "Rock me all night long\n",
      "Want you to rock me\n",
      "Till I sing my song\n",
      "See the sun goin' down\n",
      "Moon begin to rise\n",
      "See the sun goin' down\n",
      "Moon begin to rise\n",
      "Want you to rock me\n",
      "Till I'm satisfied\n",
      "Let's rock awhile\n",
      "Sun goin' down\n",
      "Little moon begin to rise\n",
      "Sun goin' down\n",
      "Little moon begin to rise\n",
      "Want you to rock me, little darlin'\n",
      "Till I'm satisfied\n",
      "Let's rock awhile\n",
      "See me comin', mama\n",
      "Bring out that old rockin' chair\n",
      "See me comin', mama\n",
      "Bring out your rocking chair\n",
      "No one's watching us\n",
      "And god knows, no one cares\n",
      "One more time\n",
      "Want you to rock me, baby\n",
      "Rock me all night long\n",
      "Rock me baby\n",
      "Rock me all night long\n",
      "You gotta rock me, little woman\n",
      "Rock me all night long\n"
     ]
    }
   ],
   "source": [
    "all_songs_dn = \"..\\\\..\\\\DataSet\\\\English songs with lyrics\"\n",
    "annotated_songs_dn = \"..\\\\..\\\\DataSet\\\\Annotated Songs\"\n",
    "\n",
    "import glob, os\n",
    "def searchFile(name, recursive=True, size=0) :\n",
    "    if recursive : name = \"**/\"+name\n",
    "    return ([f for f in glob.glob(name, recursive = recursive) if os.stat(f).st_size > size])\n",
    "\n",
    "all_songs_list = searchFile(all_songs_dn+\"\\\\*.h5\")\n",
    "annotated_songs_list = [f.split('\\\\')[2] for f in searchFile(annotated_songs_dn+\"\\\\*.h5\")]\n",
    "print(len(all_songs_list),\"songs\")\n",
    "print(len(annotated_songs_list),'annotated songs')\n",
    "\n",
    "##Pick Random file among all_songs_list, check if not in annotated_songs_list\n",
    "from random import randint\n",
    "file_chosen = False\n",
    "while not file_chosen :\n",
    "    song_file = all_songs_list[randint(0, len(all_songs_list))]\n",
    "    if song_file.split('\\\\')[-1] not in annotated_songs_list :\n",
    "        file_chosen = True\n",
    "\n",
    "print(\"file chosen is located at :\",song_file)\n",
    "\n",
    "##Open file and display lyrics\n",
    "with open(song_file, 'r', encoding=\"utf-8\") as song :\n",
    "    s = song.readlines()\n",
    "lyrics = s[8]\n",
    "print('\\n\\n',s[4].rstrip(),'by',s[2])\n",
    "print(lyrics.replace(\"<SEP>\",\"\\n\"))"
   ]
  },
  {
   "cell_type": "markdown",
   "metadata": {},
   "source": [
    "## Annotate"
   ]
  },
  {
   "cell_type": "code",
   "execution_count": 32,
   "metadata": {},
   "outputs": [
    {
     "data": {
      "application/vnd.jupyter.widget-view+json": {
       "model_id": "c86fe879a2aa4b0597c62bd318b75a1e",
       "version_major": 2,
       "version_minor": 0
      },
      "text/plain": [
       "IntSlider(value=0, description='Peace/Anger', max=1, min=-1)"
      ]
     },
     "metadata": {},
     "output_type": "display_data"
    },
    {
     "data": {
      "application/vnd.jupyter.widget-view+json": {
       "model_id": "e1f97167ee304da9b6b566a02a9883d6",
       "version_major": 2,
       "version_minor": 0
      },
      "text/plain": [
       "IntSlider(value=0, description='Sadness/Joy', max=1, min=-1)"
      ]
     },
     "metadata": {},
     "output_type": "display_data"
    },
    {
     "data": {
      "application/vnd.jupyter.widget-view+json": {
       "model_id": "4c79f6894f5248e8a94c6b8b89f2a88d",
       "version_major": 2,
       "version_minor": 0
      },
      "text/plain": [
       "IntSlider(value=0, description='Hate/Love', max=1, min=-1)"
      ]
     },
     "metadata": {},
     "output_type": "display_data"
    },
    {
     "data": {
      "application/vnd.jupyter.widget-view+json": {
       "model_id": "de9bc6f8f29f48bda28f9f07e51903e8",
       "version_major": 2,
       "version_minor": 0
      },
      "text/plain": [
       "Text(value='', description='Keywords')"
      ]
     },
     "metadata": {},
     "output_type": "display_data"
    }
   ],
   "source": [
    "from ipywidgets import interact, interactive, fixed, interact_manual\n",
    "import ipywidgets as widgets\n",
    "anger = widgets.IntSlider(min=-1,max=1, step=1,description='Peace/Anger')\n",
    "joy = widgets.IntSlider(min=-1, max=1,step=1,description='Sadness/Joy')\n",
    "love = widgets.IntSlider(min=-1,max=1,step=1,description='Hate/Love')\n",
    "keywords = widgets.Text(description='Keywords')\n",
    "display(anger)\n",
    "display(joy)\n",
    "display(love)\n",
    "display(keywords)"
   ]
  },
  {
   "cell_type": "markdown",
   "metadata": {},
   "source": [
    "## Check your annotation and save"
   ]
  },
  {
   "cell_type": "code",
   "execution_count": 41,
   "metadata": {},
   "outputs": [],
   "source": [
    "with open(\"..\\\\..\\\\DataSet\\\\Annotated Songs\\\\\"+song_file.split('\\\\')[-1],'w',encoding = 'utf-8') as save_file :\n",
    "    for l in s :\n",
    "        save_file.write(l)\n",
    "    save_file.write('\\n'+str(anger.value)+\";\"+str(joy.value)+\";\"+str(love.value)+'\\n')\n",
    "    save_file.write(str(keywords.value))\n",
    "\n",
    "\n",
    "with open(\"..\\\\..\\\\DataSet\\\\keywords.list\",'r',encoding = 'utf-8') as keywords_file :\n",
    "    kfile = [f.rstrip() for f in keywords_file.readlines()]\n",
    "    \n",
    "keyw = keywords.value.split(';')\n",
    "for key in keyw :\n",
    "    if key not in kfile :\n",
    "        kfile.append(key)\n",
    "        \n",
    "with open(\"..\\\\..\\\\DataSet\\\\keywords.list\",'w',encoding = 'utf-8') as keywords_file :\n",
    "    for l in kfile :\n",
    "        keywords_file.write(l+\"\\n\")"
   ]
  },
  {
   "cell_type": "markdown",
   "metadata": {},
   "source": [
    "# Restart"
   ]
  }
 ],
 "metadata": {
  "file_extension": ".py",
  "kernelspec": {
   "display_name": "Python 3",
   "language": "python",
   "name": "python3"
  },
  "language_info": {
   "codemirror_mode": {
    "name": "ipython",
    "version": 3
   },
   "file_extension": ".py",
   "mimetype": "text/x-python",
   "name": "python",
   "nbconvert_exporter": "python",
   "pygments_lexer": "ipython3",
   "version": "3.6.2"
  },
  "mimetype": "text/x-python",
  "name": "python",
  "npconvert_exporter": "python",
  "pygments_lexer": "ipython3",
  "version": 3
 },
 "nbformat": 4,
 "nbformat_minor": 2
}

{
 "cells": [
  {
   "cell_type": "markdown",
   "metadata": {},
   "source": [
    "# Song Annotation"
   ]
  },
  {
   "cell_type": "markdown",
   "metadata": {},
   "source": [
    "## Song selection and display"
   ]
  },
  {
   "cell_type": "code",
   "execution_count": 21,
   "metadata": {},
   "outputs": [
    {
     "name": "stdout",
     "output_type": "stream",
     "text": [
      "1101 songs\n",
      "73 annotated songs\n",
      "file chosen is located at : ../../DataSet/To_annotate_3/TRBCBXZ128F14628C3.h5\n",
      "\n",
      "\n",
      " Ocean Drive by Lighthouse Family\n",
      "\n",
      "Say it's true\n",
      "Black and blue\n",
      "I can share your situation\n",
      "Keep hold on our\n",
      "Emotions they\n",
      "Will only make us cry\n",
      "And you go\n",
      "But I don't know\n",
      "What you know\n",
      "It ain't so serious anyway\n",
      "When the clouds arrive we'll live on Ocean Drive\n",
      "Don't know why\n",
      "You're so blue\n",
      "The suns gonna shine on everything you do\n",
      "And the sky\n",
      "Is so blue\n",
      "The suns gonna shine on everything you do\n",
      "He left you\n",
      "Black and blue\n",
      "Without a word of explanation\n",
      "And he took your love\n",
      "For granted and\n",
      "He left you and high dry\n",
      "But you know\n",
      "Someday\n",
      "Well you'll wonder what\n",
      "You see in him anyway\n",
      "When that day arrives we'll live on Ocean Drive\n",
      "Don't know why\n",
      "You're so blue\n",
      "The suns gonna shine on everything you do\n",
      "And the sky\n",
      "Is so blue\n",
      "The suns gonna shine on everything you do\n",
      "Don't know why\n",
      "You're so blue\n",
      "The suns gonna shine on everything you do\n",
      "And the sky\n",
      "Is so blue\n",
      "The suns gonna shine on everything you do\n",
      "Don't know why\n",
      "You're so blue\n",
      "The suns gonna shine on everything you do\n",
      "And the sky\n",
      "Is so blue\n",
      "The suns gonna shine on everything you do\n"
     ]
    }
   ],
   "source": [
    "all_songs_dn = \"../../DataSet/To_annotate_3\"\n",
    "annotated_songs_dn = \"../../DataSet/Annotated Songs\"\n",
    "\n",
    "import glob, os\n",
    "def searchFile(name, recursive=True, size=0) :\n",
    "    if recursive : name = \"**/\"+name\n",
    "    return ([f for f in glob.glob(name, recursive = recursive) if os.stat(f).st_size > size])\n",
    "\n",
    "all_songs_list = searchFile(all_songs_dn+\"/*.h5\")\n",
    "annotated_songs_list = [f.split('/')[2] for f in searchFile(annotated_songs_dn+\"/*.h5\")]\n",
    "print(len(all_songs_list),\"songs\")\n",
    "print(len(annotated_songs_list),'annotated songs')\n",
    "\n",
    "##Pick Random file among all_songs_list, check if not in annotated_songs_list\n",
    "from random import randint\n",
    "file_chosen = False\n",
    "while not file_chosen :\n",
    "    song_file = all_songs_list[randint(0, len(all_songs_list))]\n",
    "    if song_file.split('/')[-1] not in annotated_songs_list :\n",
    "        file_chosen = True\n",
    "\n",
    "print(\"file chosen is located at :\",song_file)\n",
    "\n",
    "##Open file and display lyrics\n",
    "with open(song_file, 'r', encoding=\"utf-8\") as song :\n",
    "    s = song.readlines()\n",
    "lyrics = s[8]\n",
    "print('\\n\\n',s[4].rstrip(),'by',s[2])\n",
    "print(lyrics.replace(\"<SEP>\",\"\\n\"))"
   ]
  },
  {
   "cell_type": "markdown",
   "metadata": {},
   "source": [
    "## Annotate"
   ]
  },
  {
   "cell_type": "code",
   "execution_count": 8,
   "metadata": {},
   "outputs": [
    {
     "data": {
      "application/vnd.jupyter.widget-view+json": {
       "model_id": "d6f7af52a7a0411e812f30a4f6e0e67c",
       "version_major": 2,
       "version_minor": 0
      },
      "text/plain": [
       "IntSlider(value=0, description='Peace/Anger', max=1, min=-1)"
      ]
     },
     "metadata": {},
     "output_type": "display_data"
    },
    {
     "data": {
      "application/vnd.jupyter.widget-view+json": {
       "model_id": "ba51644fcf624ac4b4503ee5877c95c8",
       "version_major": 2,
       "version_minor": 0
      },
      "text/plain": [
       "IntSlider(value=0, description='Sadness/Joy', max=1, min=-1)"
      ]
     },
     "metadata": {},
     "output_type": "display_data"
    },
    {
     "data": {
      "application/vnd.jupyter.widget-view+json": {
       "model_id": "e0f6fea399e5470f8f12b6a7d3b0c53d",
       "version_major": 2,
       "version_minor": 0
      },
      "text/plain": [
       "IntSlider(value=0, description='Hate/Love', max=1, min=-1)"
      ]
     },
     "metadata": {},
     "output_type": "display_data"
    },
    {
     "data": {
      "application/vnd.jupyter.widget-view+json": {
       "model_id": "a5bed1b2bbe1454e83f72cde964ad7cc",
       "version_major": 2,
       "version_minor": 0
      },
      "text/plain": [
       "Text(value='', description='Keywords')"
      ]
     },
     "metadata": {},
     "output_type": "display_data"
    }
   ],
   "source": [
    "from ipywidgets import interact, interactive, fixed, interact_manual\n",
    "import ipywidgets as widgets\n",
    "anger = widgets.IntSlider(min=-1,max=1, step=1,description='Peace/Anger')\n",
    "joy = widgets.IntSlider(min=-1, max=1,step=1,description='Sadness/Joy')\n",
    "love = widgets.IntSlider(min=-1,max=1,step=1,description='Hate/Love')\n",
    "keywords = widgets.Text(description='Keywords')\n",
    "display(anger)\n",
    "display(joy)\n",
    "display(love)\n",
    "display(keywords)"
   ]
  },
  {
   "cell_type": "markdown",
   "metadata": {},
   "source": [
    "## Check your annotation and save"
   ]
  },
  {
   "cell_type": "code",
   "execution_count": 20,
   "metadata": {},
   "outputs": [
    {
     "name": "stdout",
     "output_type": "stream",
     "text": [
      "Done\n"
     ]
    }
   ],
   "source": [
    "with open(\"../../DataSet/Annotated Songs/\"+song_file.split('/')[-1],'w',encoding = 'utf-8') as save_file :\n",
    "    for l in s :\n",
    "        save_file.write(l)\n",
    "    save_file.write('\\n'+str(anger.value)+\";\"+str(joy.value)+\";\"+str(love.value)+'\\n')\n",
    "    save_file.write(str(keywords.value))\n",
    "\n",
    "\n",
    "with open(\"../../DataSet/keywords.list\",'r',encoding = 'utf-8') as keywords_file :\n",
    "    kfile = [f.rstrip() for f in keywords_file.readlines()]\n",
    "    \n",
    "keyw = keywords.value.split(';')\n",
    "for key in keyw :\n",
    "    if key not in kfile :\n",
    "        kfile.append(key)\n",
    "        \n",
    "with open(\"../../DataSet/keywords.list\",'w',encoding = 'utf-8') as keywords_file :\n",
    "    for l in kfile :\n",
    "        keywords_file.write(l+\"\\n\")\n",
    "\n",
    "print(\"Done\")"
   ]
  },
  {
   "cell_type": "markdown",
   "metadata": {},
   "source": [
    "# Restart"
   ]
  },
  {
   "cell_type": "code",
   "execution_count": null,
   "metadata": {},
   "outputs": [],
   "source": []
  }
 ],
 "metadata": {
  "file_extension": ".py",
  "kernelspec": {
   "display_name": "Python 3",
   "language": "python",
   "name": "python3"
  },
  "language_info": {
   "codemirror_mode": {
    "name": "ipython",
    "version": 3
   },
   "file_extension": ".py",
   "mimetype": "text/x-python",
   "name": "python",
   "nbconvert_exporter": "python",
   "pygments_lexer": "ipython3",
   "version": "3.6.7"
  },
  "mimetype": "text/x-python",
  "name": "python",
  "npconvert_exporter": "python",
  "pygments_lexer": "ipython3",
  "version": 3
 },
 "nbformat": 4,
 "nbformat_minor": 2
}
